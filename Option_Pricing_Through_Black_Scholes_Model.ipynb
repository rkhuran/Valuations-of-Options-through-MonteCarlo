{
  "nbformat": 4,
  "nbformat_minor": 0,
  "metadata": {
    "kernelspec": {
      "display_name": "Python 3",
      "language": "python",
      "name": "python3"
    },
    "language_info": {
      "codemirror_mode": {
        "name": "ipython",
        "version": 3
      },
      "file_extension": ".py",
      "mimetype": "text/x-python",
      "name": "python",
      "nbconvert_exporter": "python",
      "pygments_lexer": "ipython3",
      "version": "3.7.0"
    },
    "colab": {
      "name": "Option Pricing Through Black-Scholes Model.ipynb",
      "provenance": [],
      "include_colab_link": true
    }
  },
  "cells": [
    {
      "cell_type": "markdown",
      "metadata": {
        "id": "view-in-github",
        "colab_type": "text"
      },
      "source": [
        "<a href=\"https://colab.research.google.com/github/rkhuran/Valuations-of-Options-through-MonteCarlo/blob/master/Option_Pricing_Through_Black_Scholes_Model.ipynb\" target=\"_parent\"><img src=\"https://colab.research.google.com/assets/colab-badge.svg\" alt=\"Open In Colab\"/></a>"
      ]
    },
    {
      "cell_type": "markdown",
      "metadata": {
        "id": "4GrnBxiE63RK",
        "colab_type": "text"
      },
      "source": [
        "This program is to evaluation the option price using BSM Model, covers both Call and Put Option."
      ]
    },
    {
      "cell_type": "code",
      "metadata": {
        "id": "CTqWyOJN6uIK",
        "colab_type": "code",
        "colab": {}
      },
      "source": [
        "import numpy as np\n",
        "import scipy.stats as si\n",
        "import sympy as sy\n",
        "#import sympy.statistics as systats"
      ],
      "execution_count": 0,
      "outputs": []
    },
    {
      "cell_type": "code",
      "metadata": {
        "id": "RQHXqDcq6uIQ",
        "colab_type": "code",
        "colab": {}
      },
      "source": [
        "def euro_vanilla_call(S, K, T, r, sigma):\n",
        "    \n",
        "    #S: spot price\n",
        "    #K: strike price\n",
        "    #T: time to maturity\n",
        "    #r: interest rate\n",
        "    #sigma: volatility of underlying asset\n",
        "    \n",
        "    d1 = (np.log(S / K) + (r + 0.5 * sigma ** 2) * T) / (sigma * np.sqrt(T))\n",
        "    d2 = (np.log(S / K) + (r - 0.5 * sigma ** 2) * T) / (sigma * np.sqrt(T))\n",
        "    \n",
        "    call = (S * si.norm.cdf(d1, 0.0, 1.0) - K * np.exp(-r * T) * si.norm.cdf(d2, 0.0, 1.0))\n",
        "    \n",
        "    return call"
      ],
      "execution_count": 0,
      "outputs": []
    },
    {
      "cell_type": "code",
      "metadata": {
        "id": "ibAV_TOw6uIT",
        "colab_type": "code",
        "colab": {
          "base_uri": "https://localhost:8080/",
          "height": 34
        },
        "outputId": "255c8fab-baf4-4285-e893-69a3b563a376"
      },
      "source": [
        "euro_vanilla_call(50, 100, 1, 0.05, 0.25)"
      ],
      "execution_count": 4,
      "outputs": [
        {
          "output_type": "execute_result",
          "data": {
            "text/plain": [
              "0.027352509369436617"
            ]
          },
          "metadata": {
            "tags": []
          },
          "execution_count": 4
        }
      ]
    },
    {
      "cell_type": "code",
      "metadata": {
        "id": "tCMDtA2m6uIV",
        "colab_type": "code",
        "colab": {}
      },
      "source": [
        "def euro_vanilla_put(S, K, T, r, sigma):\n",
        "    \n",
        "    #S: spot price\n",
        "    #K: strike price\n",
        "    #T: time to maturity\n",
        "    #r: interest rate\n",
        "    #sigma: volatility of underlying asset\n",
        "    \n",
        "    d1 = (np.log(S / K) + (r + 0.5 * sigma ** 2) * T) / (sigma * np.sqrt(T))\n",
        "    d2 = (np.log(S / K) + (r - 0.5 * sigma ** 2) * T) / (sigma * np.sqrt(T))\n",
        "    \n",
        "    put = (K * np.exp(-r * T) * si.norm.cdf(-d2, 0.0, 1.0) - S * si.norm.cdf(-d1, 0.0, 1.0))\n",
        "    \n",
        "    return put"
      ],
      "execution_count": 0,
      "outputs": []
    }
  ]
}