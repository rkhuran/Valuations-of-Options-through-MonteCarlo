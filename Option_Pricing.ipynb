{
  "nbformat": 4,
  "nbformat_minor": 0,
  "metadata": {
    "kernelspec": {
      "display_name": "Python 3",
      "language": "python",
      "name": "python3"
    },
    "language_info": {
      "codemirror_mode": {
        "name": "ipython",
        "version": 3
      },
      "file_extension": ".py",
      "mimetype": "text/x-python",
      "name": "python",
      "nbconvert_exporter": "python",
      "pygments_lexer": "ipython3",
      "version": "3.7.0"
    },
    "colab": {
      "name": "Option Pricing.ipynb",
      "provenance": [],
      "include_colab_link": true
    }
  },
  "cells": [
    {
      "cell_type": "markdown",
      "metadata": {
        "id": "view-in-github",
        "colab_type": "text"
      },
      "source": [
        "<a href=\"https://colab.research.google.com/github/rkhuran/Valuations-of-Options-through-MonteCarlo/blob/master/Option_Pricing.ipynb\" target=\"_parent\"><img src=\"https://colab.research.google.com/assets/colab-badge.svg\" alt=\"Open In Colab\"/></a>"
      ]
    },
    {
      "cell_type": "markdown",
      "metadata": {
        "id": "XcCMnqr749L8",
        "colab_type": "text"
      },
      "source": [
        "This has option pricing using\n",
        "- Black Scholes Merton Model\n",
        "- Monte Carlo Simulation\n",
        "\n",
        "Following options has beeen covered:-\n",
        "- Vanilla Option\n",
        "- Asian Option\n",
        "- Lookback Option\n",
        "- Spread Call Option\n",
        "\n",
        "**All the above options are of European type only. **"
      ]
    },
    {
      "cell_type": "code",
      "metadata": {
        "id": "DGvs-fGG4tt-",
        "colab_type": "code",
        "colab": {},
        "outputId": "44ddfb9c-b801-4d29-99b9-b1a969d443d2"
      },
      "source": [
        "# Home Work 6\n",
        "# MA 548 \n",
        "# Author : Rohit Khurana\n",
        "# Submission Date: March 4th, 2019 \n",
        "\n",
        "# Problem 2 (Option Pricing under GBM)\n",
        "r = 0.20\n",
        "vol = 1\n",
        "t = 4 \n",
        "S = 100 #Asset price at t=0\n",
        "c = [0]*N\n",
        "temp =0\n",
        "\n",
        "# 2(a)\n",
        "def europeancall_BSM(K):\n",
        "    d1=(np.log(S/K)+(r+vol*vol*0.5)*t)/(vol*np.sqrt(t))\n",
        "    d2=d1-vol*math.sqrt(t)\n",
        "    temp = (S*st.norm.cdf(d1,0.0,1.0)- K*st.norm.cdf(d2,0.0,1.0)*np.exp(-1*r*t))\n",
        "    print(\"For Strike Price = $\", K,\"Call Option Price = $\",temp)\n",
        "print(\"Price of the European Call Option\")\n",
        "print (\"Using Black Scholes Model (BSM)\")\n",
        "europeancall_BSM(100)\n",
        "europeancall_BSM(120)\n",
        "europeancall_BSM(80)"
      ],
      "execution_count": 0,
      "outputs": [
        {
          "output_type": "stream",
          "text": [
            "Price of the European Call Option\n",
            "Using Black Scholes Model (BSM)\n",
            "For Strike Price = $ 100 Call Option Price = $ 79.601347146167\n",
            "For Strike Price = $ 120 Call Option Price = $ 77.27472425556982\n",
            "For Strike Price = $ 80 Call Option Price = $ 82.23020272294066\n"
          ],
          "name": "stdout"
        }
      ]
    },
    {
      "cell_type": "code",
      "metadata": {
        "id": "RQRqpJ6f4tuC",
        "colab_type": "code",
        "colab": {},
        "outputId": "5052a67c-c1b5-43fb-cd39-d4d596896b76"
      },
      "source": [
        "#2(b)\n",
        "def europeancall(K):\n",
        "    r = 0.20\n",
        "    vol = 1\n",
        "    t = 4 \n",
        "    dt =0.01\n",
        "    Nmod=int(t/dt)\n",
        "    N = 100000\n",
        "    S = 100 #Asset price at t=0\n",
        "    c = [0]*N\n",
        "    STI=[0]*Nmod #storing the price on the path\n",
        "    STI[0]=S\n",
        "    fact =(r+(-1)*(0.5*vol*vol))*dt\n",
        "    for i in range(N):\n",
        "        for j in range (1, Nmod):\n",
        "            STI[j]=STI[j-1]*np.exp(fact+ vol*math.sqrt(dt)*np.random.normal(0,1,1))\n",
        "        c[i] =(math.exp((-1)*(r)*(t)))*(np.maximum((STI[-1]-K),0)) #Present Value of the Payoff \n",
        "    print(\"For Strike Price = $\", K,\"Call Option Price = $\",np.mean(c))\n",
        "\n",
        "print(\"Using Monte Carlo Simulation for European Call Option\")\n",
        "europeancall(100)\n",
        "europeancall(120)\n",
        "europeancall(80)"
      ],
      "execution_count": 0,
      "outputs": [
        {
          "output_type": "stream",
          "text": [
            "Using Monte Carlo Simulation for European Call Option\n",
            "For Strike Price = $ 100 Call Option Price = $ 78.57092145882399\n",
            "For Strike Price = $ 120 Call Option Price = $ 75.22300743333349\n",
            "For Strike Price = $ 80 Call Option Price = $ 86.6417332795957\n"
          ],
          "name": "stdout"
        }
      ]
    },
    {
      "cell_type": "code",
      "metadata": {
        "id": "ltTyhokt4tuF",
        "colab_type": "code",
        "colab": {},
        "outputId": "5a1d055f-0cdf-489e-a063-c7e40412e6c9"
      },
      "source": [
        "#2(c)\n",
        "def asiancall(K):\n",
        "    r = 0.20\n",
        "    vol = 1\n",
        "    t = 4 \n",
        "    dt =0.01\n",
        "    Nmod=int(t/dt)\n",
        "    N = 100000\n",
        "    S = 100 #Asset price at t=0\n",
        "    c = [0]*N\n",
        "    STI=[0]*Nmod #storing the price on the path\n",
        "    STI[0]=S\n",
        "    fact =(r+(-1)*(0.5*vol*vol))*dt\n",
        "    for i in range(N):\n",
        "        for j in range (1, Nmod):\n",
        "            STI[j]=STI[j-1]*np.exp(fact+ vol*math.sqrt(dt)*np.random.normal(0,1,1))\n",
        "        STI_Mean=np.mean(STI)\n",
        "        c[i] =(math.exp((-1)*(r)*(t)))*(np.maximum((STI_Mean-K),0)) #Present Value of the Payoff \n",
        "    print(\"For Strike Price = $\", K,\"Call Option Price = $\",np.mean(c))\n",
        "\n",
        "print(\"Using Monte Carlo Simulation for Asian Call Option\")\n",
        "asiancall(100)\n",
        "asiancall(120)\n",
        "asiancall(80)"
      ],
      "execution_count": 0,
      "outputs": [
        {
          "output_type": "stream",
          "text": [
            "Using Monte Carlo Simulation for Asian Call Option\n",
            "For Strike Price = $ 100 Call Option Price = $ 38.86632686000885\n",
            "For Strike Price = $ 120 Call Option Price = $ 36.53613083166107\n",
            "For Strike Price = $ 80 Call Option Price = $ 42.46385376747693\n"
          ],
          "name": "stdout"
        }
      ]
    },
    {
      "cell_type": "code",
      "metadata": {
        "id": "W5xtFeK94tuH",
        "colab_type": "code",
        "colab": {},
        "outputId": "940e9d28-32a2-46f8-ab30-d1b5c38a3983"
      },
      "source": [
        "#2(d)\n",
        "def lookback():\n",
        "    r = 0.20\n",
        "    vol = 1\n",
        "    t = 4 \n",
        "    dt =0.01\n",
        "    Nmod=int(t/dt)\n",
        "    N = 100000\n",
        "    S = 100 #Asset price at t=0\n",
        "    c = [0]*N\n",
        "    STI=[0]*Nmod #storing the price on the path\n",
        "    STI[0]=S\n",
        "    fact =(r+(-1)*(0.5*vol*vol))*dt\n",
        "    for i in range(N):\n",
        "        for j in range (1, Nmod):\n",
        "            STI[j]=STI[j-1]*np.exp(fact+ vol*math.sqrt(dt)*np.random.normal(0,1,1))\n",
        "        c[i] =(math.exp((-1)*(r)*(t)))*(np.maximum((STI[-1]-min(STI)),0)) #Present Value of the Payoff \n",
        "    print(\"Call Option Price = $\",np.mean(c))\n",
        "\n",
        "print(\"Using Monte Carlo Simulation for Pricing Lookback Call Option,here strike price has been considered as minimum price of the stock over the path\")\n",
        "lookback()    "
      ],
      "execution_count": 0,
      "outputs": [
        {
          "output_type": "stream",
          "text": [
            "Using Monte Carlo Simulation for Pricing Lookback Call Option,here strike price has been considered as minimum price of the stock over the path\n",
            "Call Option Price = $ 89.25820808187638\n"
          ],
          "name": "stdout"
        }
      ]
    },
    {
      "cell_type": "code",
      "metadata": {
        "id": "rd4WSbok4tuJ",
        "colab_type": "code",
        "colab": {},
        "outputId": "14bc5db8-f71a-4e0e-d5be-dc9372a8fe73"
      },
      "source": [
        "# Problem 3 (Pricing a Componund Option)\n",
        "N=100000\n",
        "S=100\n",
        "r =0.2\n",
        "vol=1\n",
        "K1=80\n",
        "K2=120\n",
        "T1 =2\n",
        "T2 =4\n",
        "ST1=[0]*N\n",
        "ST2 =[0]*N\n",
        "CT1=[0]*N\n",
        "c=[0]*N\n",
        "for i in range(N):\n",
        "    ST1[i]=S*(np.exp((r+(-0.5)*vol*vol*T1)+ vol*math.sqrt(T1)*np.random.normal(0,1,1)))\n",
        "    a1=(np.log(K2/ST1[i])+(vol*vol*0.5)*(T2-T1)+(-1)*r*(T2-T1))/(vol*np.sqrt(T2-T1))\n",
        "    a2=vol*np.sqrt(T2-T1)-a1\n",
        "    CT1[i]=(ST1[i]*st.norm.cdf(a2,0.0,1.0)- K2*st.norm.cdf(a1,0.0,1.0)*np.exp(-1*r*(T2-T1)))\n",
        "    c[i]=np.maximum(0,CT1[i]-K1)*(np.exp(-r*T1))\n",
        "print(\"Call price of the Compound Options: $\",np.mean(c))"
      ],
      "execution_count": 0,
      "outputs": [
        {
          "output_type": "stream",
          "text": [
            "Call price of the Compound Options: $ 42.08333590668406\n"
          ],
          "name": "stdout"
        }
      ]
    },
    {
      "cell_type": "code",
      "metadata": {
        "scrolled": true,
        "id": "II5bLBmU4tuL",
        "colab_type": "code",
        "colab": {},
        "outputId": "0770f81f-3748-4135-b88b-97bf8c0847b9"
      },
      "source": [
        "#Problem 4 (Multivariate GBM for pricing a spread call option)\n",
        "print(\"Multivariate GBM for pricing a Spread Call Option\")\n",
        "X0=50\n",
        "Y0=45\n",
        "r=0.05\n",
        "vol1=0.2\n",
        "vol2=0.3\n",
        "T=1\n",
        "K=[0,5,10]\n",
        "N=10000\n",
        "A =[[1,0.5],[0.5,1]]\n",
        "dt=0.01\n",
        "Nmod=int(T/dt)\n",
        "X=[0]*N\n",
        "XI=[0]*Nmod\n",
        "XI[0]=X0\n",
        "Y=[0]*N\n",
        "YI=[0]*Nmod\n",
        "YI[0]=Y0\n",
        "c=[0]*N\n",
        "Z=[[0]*2]*Nmod\n",
        "for k in range(len(K)):\n",
        "    for i in range(N):\n",
        "        for j in range(1,Nmod):\n",
        "            XI[j]=XI[j-1]*(np.exp((r+(-0.5)*vol1*vol1)*dt)+ (np.sqrt(dt))*(A[0][0]*np.random.normal(0,1,1)+A[0][1]*np.random.normal(0,1,1)))\n",
        "            YI[j]=YI[j-1]*(np.exp((r+(-0.5)*vol2*vol2)*dt)+ (np.sqrt(dt))*(A[1][0]*np.random.normal(0,1,1)+A[1][1]*np.random.normal(0,1,1)))\n",
        "        X[i]=XI[-1]\n",
        "        Y[i]=YI[-1]\n",
        "        temp = X[i]-Y[i]-K[k]\n",
        "        c[i]=np.maximum(0,temp)*np.exp(-r*T)\n",
        "    print(\"When Strike is $\", K[k],\"Call price of the Compound Options: $\",np.mean(c))"
      ],
      "execution_count": 0,
      "outputs": [
        {
          "output_type": "stream",
          "text": [
            "Multivariate GBM for pricing a Spread Call Option\n",
            "When Strike is $ 0 Call price of the Compound Options: $ 29.190517626030008\n",
            "When Strike is $ 5 Call price of the Compound Options: $ 27.32403127749873\n",
            "When Strike is $ 10 Call price of the Compound Options: $ 24.99690367397894\n"
          ],
          "name": "stdout"
        }
      ]
    }
  ]
}